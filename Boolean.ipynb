{
 "cells": [
  {
   "cell_type": "markdown",
   "id": "356e1236-5223-4211-a5d8-aa918e935743",
   "metadata": {},
   "source": [
    "Boolean - bool\n",
    "\n",
    "The only values are **True** and **False**"
   ]
  },
  {
   "cell_type": "code",
   "execution_count": 3,
   "id": "86ecc4ea-4e7c-4b32-8c48-a7f0eae64e44",
   "metadata": {},
   "outputs": [
    {
     "data": {
      "text/plain": [
       "True"
      ]
     },
     "execution_count": 3,
     "metadata": {},
     "output_type": "execute_result"
    }
   ],
   "source": [
    "True"
   ]
  },
  {
   "cell_type": "code",
   "execution_count": 4,
   "id": "5a6de474-d0fb-4db3-aeda-9ca7c5913910",
   "metadata": {},
   "outputs": [
    {
     "data": {
      "text/plain": [
       "False"
      ]
     },
     "execution_count": 4,
     "metadata": {},
     "output_type": "execute_result"
    }
   ],
   "source": [
    "False"
   ]
  },
  {
   "cell_type": "code",
   "execution_count": 5,
   "id": "ef84e0cf-6205-4e56-95ff-5c87e3639a75",
   "metadata": {},
   "outputs": [
    {
     "data": {
      "text/plain": [
       "True"
      ]
     },
     "execution_count": 5,
     "metadata": {},
     "output_type": "execute_result"
    }
   ],
   "source": [
    "3 > 2"
   ]
  },
  {
   "cell_type": "code",
   "execution_count": 6,
   "id": "dfe4ebeb-14e5-434d-b031-d7dc8f9a8679",
   "metadata": {},
   "outputs": [
    {
     "data": {
      "text/plain": [
       "False"
      ]
     },
     "execution_count": 6,
     "metadata": {},
     "output_type": "execute_result"
    }
   ],
   "source": [
    "3 < 2"
   ]
  },
  {
   "cell_type": "code",
   "execution_count": 7,
   "id": "5e471945-8dd2-4899-8c65-38de1b3db84a",
   "metadata": {},
   "outputs": [
    {
     "data": {
      "text/plain": [
       "True"
      ]
     },
     "execution_count": 7,
     "metadata": {},
     "output_type": "execute_result"
    }
   ],
   "source": [
    "3 != 2"
   ]
  },
  {
   "cell_type": "code",
   "execution_count": 8,
   "id": "25190643-3ffd-48bb-b8ec-39ae15a68c9a",
   "metadata": {},
   "outputs": [
    {
     "ename": "SyntaxError",
     "evalue": "cannot assign to literal here. Maybe you meant '==' instead of '='? (1733006946.py, line 1)",
     "output_type": "error",
     "traceback": [
      "\u001b[1;36m  Cell \u001b[1;32mIn[8], line 1\u001b[1;36m\u001b[0m\n\u001b[1;33m    3 = 2\u001b[0m\n\u001b[1;37m    ^\u001b[0m\n\u001b[1;31mSyntaxError\u001b[0m\u001b[1;31m:\u001b[0m cannot assign to literal here. Maybe you meant '==' instead of '='?\n"
     ]
    }
   ],
   "source": [
    "#3 = 2"
   ]
  },
  {
   "cell_type": "code",
   "execution_count": 9,
   "id": "9a4c08f3-b572-4356-8a78-11f091e5c931",
   "metadata": {},
   "outputs": [
    {
     "data": {
      "text/plain": [
       "False"
      ]
     },
     "execution_count": 9,
     "metadata": {},
     "output_type": "execute_result"
    }
   ],
   "source": [
    "3 == 2"
   ]
  },
  {
   "cell_type": "markdown",
   "id": "40a0348e-1d0e-41a2-ac08-5ea66b050eeb",
   "metadata": {},
   "source": [
    "Assignment to a variable: =\n",
    "\n",
    "Comparison operator: =="
   ]
  },
  {
   "cell_type": "code",
   "execution_count": 10,
   "id": "f7c1dd24-ff19-4a83-b454-b7b60b2a1392",
   "metadata": {},
   "outputs": [],
   "source": [
    "num = 3"
   ]
  },
  {
   "cell_type": "code",
   "execution_count": 11,
   "id": "d2379f34-dc75-4918-9598-79291fbc9840",
   "metadata": {},
   "outputs": [
    {
     "data": {
      "text/plain": [
       "False"
      ]
     },
     "execution_count": 11,
     "metadata": {},
     "output_type": "execute_result"
    }
   ],
   "source": [
    "num == 2"
   ]
  },
  {
   "cell_type": "code",
   "execution_count": 12,
   "id": "0831c267-2fa0-4c69-831c-b2bc5dd0a951",
   "metadata": {},
   "outputs": [],
   "source": [
    "num = 2"
   ]
  },
  {
   "cell_type": "markdown",
   "id": "f7477bc3-64e2-4926-bc8c-2f39e8016c2b",
   "metadata": {},
   "source": [
    "## Comparison\n",
    "\n",
    "- Equality ==\n",
    "- Inequality !=\n",
    "- less than <\n",
    "- greater than >\n",
    "- less than or equal to <=\n",
    "- greater than or equal to >=\n",
    "- is\n",
    "- not"
   ]
  },
  {
   "cell_type": "code",
   "execution_count": 13,
   "id": "cd7c53ae-e207-41dd-b266-d198bd0814a9",
   "metadata": {},
   "outputs": [
    {
     "data": {
      "text/plain": [
       "True"
      ]
     },
     "execution_count": 13,
     "metadata": {},
     "output_type": "execute_result"
    }
   ],
   "source": [
    "3 == 3.0"
   ]
  },
  {
   "cell_type": "code",
   "execution_count": 14,
   "id": "b33fa91c-4e11-4983-81dc-bfd9eb03a3fe",
   "metadata": {},
   "outputs": [
    {
     "name": "stderr",
     "output_type": "stream",
     "text": [
      "<>:1: SyntaxWarning: \"is\" with 'int' literal. Did you mean \"==\"?\n",
      "<>:1: SyntaxWarning: \"is\" with 'int' literal. Did you mean \"==\"?\n",
      "C:\\Users\\Lecturer\\AppData\\Local\\Temp\\ipykernel_11780\\30664588.py:1: SyntaxWarning: \"is\" with 'int' literal. Did you mean \"==\"?\n",
      "  3 is 3\n"
     ]
    },
    {
     "data": {
      "text/plain": [
       "True"
      ]
     },
     "execution_count": 14,
     "metadata": {},
     "output_type": "execute_result"
    }
   ],
   "source": [
    "3 is 3"
   ]
  },
  {
   "cell_type": "code",
   "execution_count": 15,
   "id": "853089d1-d40f-47fd-b59e-ac9494f7c812",
   "metadata": {},
   "outputs": [
    {
     "name": "stderr",
     "output_type": "stream",
     "text": [
      "<>:1: SyntaxWarning: \"is\" with 'int' literal. Did you mean \"==\"?\n",
      "<>:1: SyntaxWarning: \"is\" with 'int' literal. Did you mean \"==\"?\n",
      "C:\\Users\\Lecturer\\AppData\\Local\\Temp\\ipykernel_11780\\344507504.py:1: SyntaxWarning: \"is\" with 'int' literal. Did you mean \"==\"?\n",
      "  3 is 3.0\n"
     ]
    },
    {
     "data": {
      "text/plain": [
       "False"
      ]
     },
     "execution_count": 15,
     "metadata": {},
     "output_type": "execute_result"
    }
   ],
   "source": [
    "3 is 3.0"
   ]
  },
  {
   "cell_type": "code",
   "execution_count": 16,
   "id": "f281bee0-dae2-467f-a0b3-b618655f08b0",
   "metadata": {},
   "outputs": [
    {
     "data": {
      "text/plain": [
       "False"
      ]
     },
     "execution_count": 16,
     "metadata": {},
     "output_type": "execute_result"
    }
   ],
   "source": [
    "3 == \"3\""
   ]
  },
  {
   "cell_type": "code",
   "execution_count": 17,
   "id": "df33a850-354c-43b2-9d6e-29a337c10db1",
   "metadata": {},
   "outputs": [
    {
     "data": {
      "text/plain": [
       "True"
      ]
     },
     "execution_count": 17,
     "metadata": {},
     "output_type": "execute_result"
    }
   ],
   "source": [
    "3 >= 3"
   ]
  },
  {
   "cell_type": "markdown",
   "id": "265a9c4e-f15d-4266-ab48-c023a1cad53b",
   "metadata": {},
   "source": [
    "## if"
   ]
  },
  {
   "cell_type": "code",
   "execution_count": 22,
   "id": "316053b6-57a3-4494-9b44-8178b7f8cedd",
   "metadata": {},
   "outputs": [],
   "source": [
    "num = 10"
   ]
  },
  {
   "cell_type": "code",
   "execution_count": 23,
   "id": "9d8eb0ea-d14d-442c-8e6b-b4d3330ae1bf",
   "metadata": {},
   "outputs": [
    {
     "name": "stdout",
     "output_type": "stream",
     "text": [
      "Big number\n"
     ]
    }
   ],
   "source": [
    "if num > 5: # True\n",
    "    print(\"Big number\") # This will run"
   ]
  },
  {
   "cell_type": "code",
   "execution_count": 24,
   "id": "2244b9a9-58bb-4213-b46a-5f603afad293",
   "metadata": {},
   "outputs": [],
   "source": [
    "num = 2\n",
    "if num > 5: # False\n",
    "    print(\"Big number\") # This is skipped"
   ]
  },
  {
   "cell_type": "code",
   "execution_count": 25,
   "id": "df042b2e-6a01-490e-aff5-af598ec1831d",
   "metadata": {},
   "outputs": [],
   "source": [
    "num = 2\n",
    "if num > 5: # False\n",
    "    int(\"3.0\") # This is skipped"
   ]
  },
  {
   "cell_type": "code",
   "execution_count": 26,
   "id": "6da02980-b051-455f-aefd-3b5b5258cde3",
   "metadata": {},
   "outputs": [
    {
     "ename": "ValueError",
     "evalue": "invalid literal for int() with base 10: '3.0'",
     "output_type": "error",
     "traceback": [
      "\u001b[1;31m---------------------------------------------------------------------------\u001b[0m",
      "\u001b[1;31mValueError\u001b[0m                                Traceback (most recent call last)",
      "Cell \u001b[1;32mIn[26], line 3\u001b[0m\n\u001b[0;32m      1\u001b[0m num \u001b[38;5;241m=\u001b[39m \u001b[38;5;241m10\u001b[39m\n\u001b[0;32m      2\u001b[0m \u001b[38;5;28;01mif\u001b[39;00m num \u001b[38;5;241m>\u001b[39m \u001b[38;5;241m5\u001b[39m: \u001b[38;5;66;03m# False\u001b[39;00m\n\u001b[1;32m----> 3\u001b[0m     \u001b[38;5;28mint\u001b[39m(\u001b[38;5;124m\"\u001b[39m\u001b[38;5;124m3.0\u001b[39m\u001b[38;5;124m\"\u001b[39m)\n",
      "\u001b[1;31mValueError\u001b[0m: invalid literal for int() with base 10: '3.0'"
     ]
    }
   ],
   "source": [
    "num = 10\n",
    "if num > 5: # False\n",
    "    int(\"3.0\") # This is skipped"
   ]
  },
  {
   "cell_type": "code",
   "execution_count": 27,
   "id": "c8318e11-5350-4d89-8457-28ae51901d48",
   "metadata": {},
   "outputs": [
    {
     "name": "stdout",
     "output_type": "stream",
     "text": [
      "big num\n",
      "This is a second line\n",
      "This is a bigger num: 50\n",
      "This is outside the if statement\n"
     ]
    }
   ],
   "source": [
    "num = 10\n",
    "if num > 5:\n",
    "    print(\"big num\")\n",
    "    print(\"This is a second line\")\n",
    "    biggerNum = num * 5\n",
    "    print(f\"This is a bigger num: {biggerNum}\")\n",
    "print(\"This is outside the if statement\")"
   ]
  },
  {
   "cell_type": "code",
   "execution_count": 28,
   "id": "cb236484-db76-4ceb-9b32-c859c853d309",
   "metadata": {},
   "outputs": [
    {
     "name": "stdout",
     "output_type": "stream",
     "text": [
      "This is outside the if statement\n"
     ]
    }
   ],
   "source": [
    "num = 2\n",
    "if num > 5:\n",
    "    print(\"big num\")\n",
    "    print(\"This is a second line\")\n",
    "    biggerNum = num * 5\n",
    "    print(f\"This is a bigger num: {biggerNum}\")\n",
    "print(\"This is outside the if statement\")"
   ]
  },
  {
   "cell_type": "code",
   "execution_count": 29,
   "id": "f41e4132-eb72-47d8-8ca0-3313f7800a0c",
   "metadata": {},
   "outputs": [
    {
     "name": "stdout",
     "output_type": "stream",
     "text": [
      "big num\n",
      "This is a second line\n",
      "This is a bigger num: 50\n",
      "This is outside the if statement\n"
     ]
    }
   ],
   "source": [
    "num = 10\n",
    "# will run\n",
    "if num > 5:\n",
    "    print(\"big num\")\n",
    "    print(\"This is a second line\")\n",
    "    biggerNum = num * 5\n",
    "    print(f\"This is a bigger num: {biggerNum}\")\n",
    "# will not run\n",
    "else:\n",
    "    print(\"small num\")\n",
    "    print(\"This is an alternative second line\")\n",
    "    smallerNum = num / 5\n",
    "    print(f\"This is a smaller num: {smallerNum}\")\n",
    "print(\"This is outside the if statement\")"
   ]
  },
  {
   "cell_type": "code",
   "execution_count": 30,
   "id": "bfe4f0cc-9bf7-446a-9551-adaddf3d021f",
   "metadata": {},
   "outputs": [
    {
     "name": "stdout",
     "output_type": "stream",
     "text": [
      "small num\n",
      "This is an alternative second line\n",
      "This is a smaller num: 0.4\n",
      "This is outside the if statement\n"
     ]
    }
   ],
   "source": [
    "num = 2\n",
    "# will not run\n",
    "if num > 5:\n",
    "    print(\"big num\")\n",
    "    print(\"This is a second line\")\n",
    "    biggerNum = num * 5\n",
    "    print(f\"This is a bigger num: {biggerNum}\")\n",
    "# will run\n",
    "else:\n",
    "    print(\"small num\")\n",
    "    print(\"This is an alternative second line\")\n",
    "    smallerNum = num / 5\n",
    "    print(f\"This is a smaller num: {smallerNum}\")\n",
    "print(\"This is outside the if statement\")"
   ]
  },
  {
   "cell_type": "code",
   "execution_count": 32,
   "id": "c1bc1c9c-8845-4cd5-a67b-c5ae3807facd",
   "metadata": {},
   "outputs": [],
   "source": [
    "# num = \"Python\"\n",
    "# # will not run\n",
    "# if num > 5:\n",
    "#     print(\"big num\")\n",
    "#     print(\"This is a second line\")\n",
    "#     biggerNum = num * 5\n",
    "#     print(f\"This is a bigger num: {biggerNum}\")\n",
    "# # will run\n",
    "# else:\n",
    "#     print(\"small num\")\n",
    "#     print(\"This is an alternative second line\")\n",
    "#     smallerNum = num / 5\n",
    "#     print(f\"This is a smaller num: {smallerNum}\")\n",
    "# print(\"This is outside the if statement\")"
   ]
  },
  {
   "cell_type": "code",
   "execution_count": 33,
   "id": "a386dbb4-5e9b-44b0-89f1-aa7529f046f9",
   "metadata": {},
   "outputs": [
    {
     "name": "stdout",
     "output_type": "stream",
     "text": [
      "Best class!!\n"
     ]
    }
   ],
   "source": [
    "subject = \"programming\"\n",
    "\n",
    "if subject == \"programming\":\n",
    "    print(\"Best class!!\")\n",
    "else:\n",
    "    print(\"Its still a good class..\")"
   ]
  },
  {
   "cell_type": "code",
   "execution_count": 34,
   "id": "1f82d858-9dca-4173-b541-a594d95c0b5d",
   "metadata": {},
   "outputs": [
    {
     "name": "stdout",
     "output_type": "stream",
     "text": [
      "Its still a good class..\n"
     ]
    }
   ],
   "source": [
    "subject = \"data visualisation\"\n",
    "\n",
    "if subject == \"programming\":\n",
    "    print(\"Best class!!\")\n",
    "else:\n",
    "    print(\"Its still a good class..\")"
   ]
  },
  {
   "cell_type": "code",
   "execution_count": 35,
   "id": "adf71d1c-eb08-4eaa-9e31-82642b582618",
   "metadata": {},
   "outputs": [
    {
     "name": "stdout",
     "output_type": "stream",
     "text": [
      "Best class!!\n"
     ]
    }
   ],
   "source": [
    "subject = \"programming\"\n",
    "\n",
    "if subject == \"programming\":\n",
    "    print(\"Best class!!\")\n",
    "elif subject == \"data visualisation\":\n",
    "    print(\"Don't tell David I said that!\")\n",
    "elif subject == \"programming\":\n",
    "    print(\"Python is fun\")\n",
    "else:\n",
    "    print(\"The other classes are still good\")"
   ]
  },
  {
   "cell_type": "code",
   "execution_count": 36,
   "id": "a79383dc-564f-40fe-bc72-81d10dc7a4cc",
   "metadata": {},
   "outputs": [
    {
     "name": "stdout",
     "output_type": "stream",
     "text": [
      "Don't tell David I said that!\n"
     ]
    }
   ],
   "source": [
    "subject = \"data visualisation\"\n",
    "\n",
    "if subject == \"programming\":\n",
    "    print(\"Best class!!\")\n",
    "elif subject == \"data visualisation\":\n",
    "    print(\"Don't tell David I said that!\")\n",
    "elif subject == \"programming\":\n",
    "    print(\"Python is fun\")\n",
    "else:\n",
    "    print(\"The other classes are still good\")"
   ]
  },
  {
   "cell_type": "code",
   "execution_count": 37,
   "id": "d1cc4dd1-f092-4bb5-8bd2-63ffba8eb162",
   "metadata": {},
   "outputs": [
    {
     "name": "stdout",
     "output_type": "stream",
     "text": [
      "The other classes are still good\n"
     ]
    }
   ],
   "source": [
    "subject = \"machine learning\"\n",
    "\n",
    "if subject == \"programming\":\n",
    "    print(\"Best class!!\")\n",
    "elif subject == \"data visualisation\":\n",
    "    print(\"Don't tell David I said that!\")\n",
    "elif subject == \"programming\":\n",
    "    print(\"Python is fun\")\n",
    "else:\n",
    "    print(\"The other classes are still good\")"
   ]
  },
  {
   "cell_type": "code",
   "execution_count": 38,
   "id": "05df79a6-2079-41c3-aa5d-21eb1300b323",
   "metadata": {},
   "outputs": [
    {
     "name": "stdout",
     "output_type": "stream",
     "text": [
      "The other classes are still good\n"
     ]
    }
   ],
   "source": [
    "subject = \"machine learning\"\n",
    "\n",
    "if subject == \"programming\":\n",
    "    print(\"Best class!!\")\n",
    "if subject == \"data visualisation\":\n",
    "    print(\"Don't tell David I said that!\")\n",
    "if subject == \"programming\":\n",
    "    print(\"Python is fun\")\n",
    "else:\n",
    "    print(\"The other classes are still good\")"
   ]
  },
  {
   "cell_type": "code",
   "execution_count": 41,
   "id": "7ef3cdeb-0ce3-4c65-b421-b72d5cfe3d6a",
   "metadata": {},
   "outputs": [
    {
     "name": "stdout",
     "output_type": "stream",
     "text": [
      "Best class!!\n",
      "Python is fun\n"
     ]
    }
   ],
   "source": [
    "subject = \"programming\"\n",
    "\n",
    "if subject == \"programming\":\n",
    "    print(\"Best class!!\")\n",
    "if subject == \"data visualisation\":\n",
    "    print(\"Don't tell David I said that!\")\n",
    "elif subject == \"programming\":\n",
    "    print(\"Python is fun\")\n",
    "else:\n",
    "    print(\"The other classes are still good\")"
   ]
  },
  {
   "cell_type": "markdown",
   "id": "c2e2d0d4-8537-4b74-a522-1abf826ed451",
   "metadata": {},
   "source": [
    "## Libraries\n",
    "\n",
    "Code that others have written that we can use"
   ]
  },
  {
   "cell_type": "code",
   "execution_count": 42,
   "id": "915fcebd-6b24-4741-9ee9-300ac99c4cac",
   "metadata": {},
   "outputs": [],
   "source": [
    "import pandas"
   ]
  },
  {
   "cell_type": "code",
   "execution_count": 44,
   "id": "cc217559-9b77-4893-9a57-c9aafb1a06a0",
   "metadata": {},
   "outputs": [],
   "source": [
    "data = pandas.read_csv(\"GSAF5.csv\", low_memory=False) # comma separated values"
   ]
  },
  {
   "cell_type": "code",
   "execution_count": 46,
   "id": "9ebcaf65-9d74-497a-a0ec-975fc874027f",
   "metadata": {},
   "outputs": [
    {
     "data": {
      "text/plain": [
       "pandas.core.frame.DataFrame"
      ]
     },
     "execution_count": 46,
     "metadata": {},
     "output_type": "execute_result"
    }
   ],
   "source": [
    "type(data)"
   ]
  },
  {
   "cell_type": "code",
   "execution_count": 47,
   "id": "7152169b-c838-4169-a8f0-c63145bb96d3",
   "metadata": {
    "collapsed": true,
    "jupyter": {
     "outputs_hidden": true
    }
   },
   "outputs": [
    {
     "data": {
      "text/html": [
       "<div>\n",
       "<style scoped>\n",
       "    .dataframe tbody tr th:only-of-type {\n",
       "        vertical-align: middle;\n",
       "    }\n",
       "\n",
       "    .dataframe tbody tr th {\n",
       "        vertical-align: top;\n",
       "    }\n",
       "\n",
       "    .dataframe thead th {\n",
       "        text-align: right;\n",
       "    }\n",
       "</style>\n",
       "<table border=\"1\" class=\"dataframe\">\n",
       "  <thead>\n",
       "    <tr style=\"text-align: right;\">\n",
       "      <th></th>\n",
       "      <th>Date</th>\n",
       "      <th>Year</th>\n",
       "      <th>Type</th>\n",
       "      <th>Country</th>\n",
       "      <th>State</th>\n",
       "      <th>Location</th>\n",
       "      <th>Activity</th>\n",
       "      <th>Name</th>\n",
       "      <th>Sex</th>\n",
       "      <th>Age</th>\n",
       "      <th>...</th>\n",
       "      <th>Unnamed: 245</th>\n",
       "      <th>Unnamed: 246</th>\n",
       "      <th>Unnamed: 247</th>\n",
       "      <th>Unnamed: 248</th>\n",
       "      <th>Unnamed: 249</th>\n",
       "      <th>Unnamed: 250</th>\n",
       "      <th>Unnamed: 251</th>\n",
       "      <th>Unnamed: 252</th>\n",
       "      <th>Unnamed: 253</th>\n",
       "      <th>Unnamed: 254</th>\n",
       "    </tr>\n",
       "  </thead>\n",
       "  <tbody>\n",
       "    <tr>\n",
       "      <th>0</th>\n",
       "      <td>10 Nov-2023</td>\n",
       "      <td>2023.0</td>\n",
       "      <td>Unprovoked</td>\n",
       "      <td>AUSTRALIA</td>\n",
       "      <td>South Australia</td>\n",
       "      <td>Port Noarlunga</td>\n",
       "      <td>Free diving</td>\n",
       "      <td>Bridgette O’Shannessy</td>\n",
       "      <td>F</td>\n",
       "      <td>32</td>\n",
       "      <td>...</td>\n",
       "      <td>NaN</td>\n",
       "      <td>NaN</td>\n",
       "      <td>NaN</td>\n",
       "      <td>NaN</td>\n",
       "      <td>NaN</td>\n",
       "      <td>NaN</td>\n",
       "      <td>NaN</td>\n",
       "      <td>NaN</td>\n",
       "      <td>NaN</td>\n",
       "      <td>NaN</td>\n",
       "    </tr>\n",
       "    <tr>\n",
       "      <th>1</th>\n",
       "      <td>05 Nov-2023</td>\n",
       "      <td>2023.0</td>\n",
       "      <td>Unprovoked</td>\n",
       "      <td>USA</td>\n",
       "      <td>Florida</td>\n",
       "      <td>Juno Beach, Palm Beach County</td>\n",
       "      <td>Swimming</td>\n",
       "      <td>Steven Reinhardt</td>\n",
       "      <td>M</td>\n",
       "      <td>66</td>\n",
       "      <td>...</td>\n",
       "      <td>NaN</td>\n",
       "      <td>NaN</td>\n",
       "      <td>NaN</td>\n",
       "      <td>NaN</td>\n",
       "      <td>NaN</td>\n",
       "      <td>NaN</td>\n",
       "      <td>NaN</td>\n",
       "      <td>NaN</td>\n",
       "      <td>NaN</td>\n",
       "      <td>NaN</td>\n",
       "    </tr>\n",
       "    <tr>\n",
       "      <th>2</th>\n",
       "      <td>03 Nov-2023</td>\n",
       "      <td>2023.0</td>\n",
       "      <td>Unprovoked</td>\n",
       "      <td>AUSTRALIA</td>\n",
       "      <td>Westerm Australia</td>\n",
       "      <td>Peak Island</td>\n",
       "      <td>Spearfishing</td>\n",
       "      <td>male</td>\n",
       "      <td>M</td>\n",
       "      <td>NaN</td>\n",
       "      <td>...</td>\n",
       "      <td>NaN</td>\n",
       "      <td>NaN</td>\n",
       "      <td>NaN</td>\n",
       "      <td>NaN</td>\n",
       "      <td>NaN</td>\n",
       "      <td>NaN</td>\n",
       "      <td>NaN</td>\n",
       "      <td>NaN</td>\n",
       "      <td>NaN</td>\n",
       "      <td>NaN</td>\n",
       "    </tr>\n",
       "    <tr>\n",
       "      <th>3</th>\n",
       "      <td>02 Nov-2023</td>\n",
       "      <td>2023.0</td>\n",
       "      <td>Unprovoked</td>\n",
       "      <td>NEW ZEALAND</td>\n",
       "      <td>North Island</td>\n",
       "      <td>Cape Pallister</td>\n",
       "      <td>Free diving</td>\n",
       "      <td>male</td>\n",
       "      <td>M</td>\n",
       "      <td>NaN</td>\n",
       "      <td>...</td>\n",
       "      <td>NaN</td>\n",
       "      <td>NaN</td>\n",
       "      <td>NaN</td>\n",
       "      <td>NaN</td>\n",
       "      <td>NaN</td>\n",
       "      <td>NaN</td>\n",
       "      <td>NaN</td>\n",
       "      <td>NaN</td>\n",
       "      <td>NaN</td>\n",
       "      <td>NaN</td>\n",
       "    </tr>\n",
       "    <tr>\n",
       "      <th>4</th>\n",
       "      <td>Reported 02 Nov-2023</td>\n",
       "      <td>2023.0</td>\n",
       "      <td>Questionable</td>\n",
       "      <td>EGYPT</td>\n",
       "      <td>Southern Red Sea</td>\n",
       "      <td>Fury Shoal</td>\n",
       "      <td>Scuba diving</td>\n",
       "      <td>Gary Virgo</td>\n",
       "      <td>M</td>\n",
       "      <td>66</td>\n",
       "      <td>...</td>\n",
       "      <td>NaN</td>\n",
       "      <td>NaN</td>\n",
       "      <td>NaN</td>\n",
       "      <td>NaN</td>\n",
       "      <td>NaN</td>\n",
       "      <td>NaN</td>\n",
       "      <td>NaN</td>\n",
       "      <td>NaN</td>\n",
       "      <td>NaN</td>\n",
       "      <td>NaN</td>\n",
       "    </tr>\n",
       "  </tbody>\n",
       "</table>\n",
       "<p>5 rows × 255 columns</p>\n",
       "</div>"
      ],
      "text/plain": [
       "                   Date    Year          Type      Country              State  \\\n",
       "0           10 Nov-2023  2023.0    Unprovoked    AUSTRALIA    South Australia   \n",
       "1           05 Nov-2023  2023.0    Unprovoked          USA            Florida   \n",
       "2           03 Nov-2023  2023.0    Unprovoked    AUSTRALIA  Westerm Australia   \n",
       "3           02 Nov-2023  2023.0    Unprovoked  NEW ZEALAND       North Island   \n",
       "4  Reported 02 Nov-2023  2023.0  Questionable        EGYPT   Southern Red Sea   \n",
       "\n",
       "                        Location      Activity                   Name Sex  \\\n",
       "0                 Port Noarlunga   Free diving  Bridgette O’Shannessy   F   \n",
       "1  Juno Beach, Palm Beach County      Swimming       Steven Reinhardt   M   \n",
       "2                    Peak Island  Spearfishing                   male   M   \n",
       "3                 Cape Pallister   Free diving                   male   M   \n",
       "4                     Fury Shoal  Scuba diving             Gary Virgo   M   \n",
       "\n",
       "   Age  ... Unnamed: 245 Unnamed: 246 Unnamed: 247 Unnamed: 248 Unnamed: 249  \\\n",
       "0   32  ...          NaN          NaN          NaN          NaN          NaN   \n",
       "1   66  ...          NaN          NaN          NaN          NaN          NaN   \n",
       "2  NaN  ...          NaN          NaN          NaN          NaN          NaN   \n",
       "3  NaN  ...          NaN          NaN          NaN          NaN          NaN   \n",
       "4   66  ...          NaN          NaN          NaN          NaN          NaN   \n",
       "\n",
       "  Unnamed: 250 Unnamed: 251 Unnamed: 252 Unnamed: 253 Unnamed: 254  \n",
       "0          NaN          NaN          NaN          NaN          NaN  \n",
       "1          NaN          NaN          NaN          NaN          NaN  \n",
       "2          NaN          NaN          NaN          NaN          NaN  \n",
       "3          NaN          NaN          NaN          NaN          NaN  \n",
       "4          NaN          NaN          NaN          NaN          NaN  \n",
       "\n",
       "[5 rows x 255 columns]"
      ]
     },
     "execution_count": 47,
     "metadata": {},
     "output_type": "execute_result"
    }
   ],
   "source": [
    "data.head()"
   ]
  },
  {
   "cell_type": "code",
   "execution_count": 48,
   "id": "1ad87d22-0dc5-4b7f-8166-71fbef1582c1",
   "metadata": {
    "collapsed": true,
    "jupyter": {
     "outputs_hidden": true
    }
   },
   "outputs": [
    {
     "data": {
      "text/plain": [
       "0          AUSTRALIA\n",
       "1                USA\n",
       "2          AUSTRALIA\n",
       "3        NEW ZEALAND\n",
       "4              EGYPT\n",
       "            ...     \n",
       "38976            NaN\n",
       "38977            NaN\n",
       "38978            NaN\n",
       "38979            NaN\n",
       "38980            NaN\n",
       "Name: Country, Length: 38981, dtype: object"
      ]
     },
     "execution_count": 48,
     "metadata": {},
     "output_type": "execute_result"
    }
   ],
   "source": [
    "data[\"Country\"]"
   ]
  },
  {
   "cell_type": "code",
   "execution_count": 50,
   "id": "8470f31c-8a26-4266-9c62-f9405da0117a",
   "metadata": {
    "collapsed": true,
    "jupyter": {
     "outputs_hidden": true
    }
   },
   "outputs": [
    {
     "data": {
      "text/plain": [
       "0         True\n",
       "1        False\n",
       "2         True\n",
       "3        False\n",
       "4        False\n",
       "         ...  \n",
       "38976    False\n",
       "38977    False\n",
       "38978    False\n",
       "38979    False\n",
       "38980    False\n",
       "Name: Country, Length: 38981, dtype: bool"
      ]
     },
     "execution_count": 50,
     "metadata": {},
     "output_type": "execute_result"
    }
   ],
   "source": [
    "data[\"Country\"] == \"AUSTRALIA\""
   ]
  },
  {
   "cell_type": "code",
   "execution_count": 51,
   "id": "913edbed-3b42-4954-b1e4-9579e1b4d1ec",
   "metadata": {
    "collapsed": true,
    "jupyter": {
     "outputs_hidden": true
    }
   },
   "outputs": [
    {
     "data": {
      "text/html": [
       "<div>\n",
       "<style scoped>\n",
       "    .dataframe tbody tr th:only-of-type {\n",
       "        vertical-align: middle;\n",
       "    }\n",
       "\n",
       "    .dataframe tbody tr th {\n",
       "        vertical-align: top;\n",
       "    }\n",
       "\n",
       "    .dataframe thead th {\n",
       "        text-align: right;\n",
       "    }\n",
       "</style>\n",
       "<table border=\"1\" class=\"dataframe\">\n",
       "  <thead>\n",
       "    <tr style=\"text-align: right;\">\n",
       "      <th></th>\n",
       "      <th>Date</th>\n",
       "      <th>Year</th>\n",
       "      <th>Type</th>\n",
       "      <th>Country</th>\n",
       "      <th>State</th>\n",
       "      <th>Location</th>\n",
       "      <th>Activity</th>\n",
       "      <th>Name</th>\n",
       "      <th>Sex</th>\n",
       "      <th>Age</th>\n",
       "      <th>...</th>\n",
       "      <th>Unnamed: 245</th>\n",
       "      <th>Unnamed: 246</th>\n",
       "      <th>Unnamed: 247</th>\n",
       "      <th>Unnamed: 248</th>\n",
       "      <th>Unnamed: 249</th>\n",
       "      <th>Unnamed: 250</th>\n",
       "      <th>Unnamed: 251</th>\n",
       "      <th>Unnamed: 252</th>\n",
       "      <th>Unnamed: 253</th>\n",
       "      <th>Unnamed: 254</th>\n",
       "    </tr>\n",
       "  </thead>\n",
       "  <tbody>\n",
       "    <tr>\n",
       "      <th>0</th>\n",
       "      <td>10 Nov-2023</td>\n",
       "      <td>2023.0</td>\n",
       "      <td>Unprovoked</td>\n",
       "      <td>AUSTRALIA</td>\n",
       "      <td>South Australia</td>\n",
       "      <td>Port Noarlunga</td>\n",
       "      <td>Free diving</td>\n",
       "      <td>Bridgette O’Shannessy</td>\n",
       "      <td>F</td>\n",
       "      <td>32</td>\n",
       "      <td>...</td>\n",
       "      <td>NaN</td>\n",
       "      <td>NaN</td>\n",
       "      <td>NaN</td>\n",
       "      <td>NaN</td>\n",
       "      <td>NaN</td>\n",
       "      <td>NaN</td>\n",
       "      <td>NaN</td>\n",
       "      <td>NaN</td>\n",
       "      <td>NaN</td>\n",
       "      <td>NaN</td>\n",
       "    </tr>\n",
       "    <tr>\n",
       "      <th>2</th>\n",
       "      <td>03 Nov-2023</td>\n",
       "      <td>2023.0</td>\n",
       "      <td>Unprovoked</td>\n",
       "      <td>AUSTRALIA</td>\n",
       "      <td>Westerm Australia</td>\n",
       "      <td>Peak Island</td>\n",
       "      <td>Spearfishing</td>\n",
       "      <td>male</td>\n",
       "      <td>M</td>\n",
       "      <td>NaN</td>\n",
       "      <td>...</td>\n",
       "      <td>NaN</td>\n",
       "      <td>NaN</td>\n",
       "      <td>NaN</td>\n",
       "      <td>NaN</td>\n",
       "      <td>NaN</td>\n",
       "      <td>NaN</td>\n",
       "      <td>NaN</td>\n",
       "      <td>NaN</td>\n",
       "      <td>NaN</td>\n",
       "      <td>NaN</td>\n",
       "    </tr>\n",
       "    <tr>\n",
       "      <th>5</th>\n",
       "      <td>31 Oct-2023</td>\n",
       "      <td>2023.0</td>\n",
       "      <td>Unprovoked</td>\n",
       "      <td>AUSTRALIA</td>\n",
       "      <td>South Australia</td>\n",
       "      <td>Streaky Bay</td>\n",
       "      <td>Surfing</td>\n",
       "      <td>Todd Gendle</td>\n",
       "      <td>M</td>\n",
       "      <td>55</td>\n",
       "      <td>...</td>\n",
       "      <td>NaN</td>\n",
       "      <td>NaN</td>\n",
       "      <td>NaN</td>\n",
       "      <td>NaN</td>\n",
       "      <td>NaN</td>\n",
       "      <td>NaN</td>\n",
       "      <td>NaN</td>\n",
       "      <td>NaN</td>\n",
       "      <td>NaN</td>\n",
       "      <td>NaN</td>\n",
       "    </tr>\n",
       "    <tr>\n",
       "      <th>8</th>\n",
       "      <td>21 Oct-2023</td>\n",
       "      <td>2023.0</td>\n",
       "      <td>Watercraft</td>\n",
       "      <td>AUSTRALIA</td>\n",
       "      <td>Western Australia</td>\n",
       "      <td>Alexander Bay, Esperance</td>\n",
       "      <td>Fishing</td>\n",
       "      <td>Inflatatable dinghy</td>\n",
       "      <td>M</td>\n",
       "      <td>NaN</td>\n",
       "      <td>...</td>\n",
       "      <td>NaN</td>\n",
       "      <td>NaN</td>\n",
       "      <td>NaN</td>\n",
       "      <td>NaN</td>\n",
       "      <td>NaN</td>\n",
       "      <td>NaN</td>\n",
       "      <td>NaN</td>\n",
       "      <td>NaN</td>\n",
       "      <td>NaN</td>\n",
       "      <td>NaN</td>\n",
       "    </tr>\n",
       "    <tr>\n",
       "      <th>13</th>\n",
       "      <td>01 Oct-2023</td>\n",
       "      <td>2023.0</td>\n",
       "      <td>Unprovoked</td>\n",
       "      <td>AUSTRALIA</td>\n",
       "      <td>South Australia</td>\n",
       "      <td>Beachport</td>\n",
       "      <td>Swimming</td>\n",
       "      <td>Pamela Cook</td>\n",
       "      <td>F</td>\n",
       "      <td>64</td>\n",
       "      <td>...</td>\n",
       "      <td>NaN</td>\n",
       "      <td>NaN</td>\n",
       "      <td>NaN</td>\n",
       "      <td>NaN</td>\n",
       "      <td>NaN</td>\n",
       "      <td>NaN</td>\n",
       "      <td>NaN</td>\n",
       "      <td>NaN</td>\n",
       "      <td>NaN</td>\n",
       "      <td>NaN</td>\n",
       "    </tr>\n",
       "    <tr>\n",
       "      <th>...</th>\n",
       "      <td>...</td>\n",
       "      <td>...</td>\n",
       "      <td>...</td>\n",
       "      <td>...</td>\n",
       "      <td>...</td>\n",
       "      <td>...</td>\n",
       "      <td>...</td>\n",
       "      <td>...</td>\n",
       "      <td>...</td>\n",
       "      <td>...</td>\n",
       "      <td>...</td>\n",
       "      <td>...</td>\n",
       "      <td>...</td>\n",
       "      <td>...</td>\n",
       "      <td>...</td>\n",
       "      <td>...</td>\n",
       "      <td>...</td>\n",
       "      <td>...</td>\n",
       "      <td>...</td>\n",
       "      <td>...</td>\n",
       "      <td>...</td>\n",
       "    </tr>\n",
       "    <tr>\n",
       "      <th>6908</th>\n",
       "      <td>Before 1906</td>\n",
       "      <td>0.0</td>\n",
       "      <td>Unprovoked</td>\n",
       "      <td>AUSTRALIA</td>\n",
       "      <td>NaN</td>\n",
       "      <td>NaN</td>\n",
       "      <td>Fishing</td>\n",
       "      <td>fisherman</td>\n",
       "      <td>M</td>\n",
       "      <td>NaN</td>\n",
       "      <td>...</td>\n",
       "      <td>NaN</td>\n",
       "      <td>NaN</td>\n",
       "      <td>NaN</td>\n",
       "      <td>NaN</td>\n",
       "      <td>NaN</td>\n",
       "      <td>NaN</td>\n",
       "      <td>NaN</td>\n",
       "      <td>NaN</td>\n",
       "      <td>NaN</td>\n",
       "      <td>NaN</td>\n",
       "    </tr>\n",
       "    <tr>\n",
       "      <th>6909</th>\n",
       "      <td>Before 1906</td>\n",
       "      <td>0.0</td>\n",
       "      <td>Unprovoked</td>\n",
       "      <td>AUSTRALIA</td>\n",
       "      <td>NaN</td>\n",
       "      <td>NaN</td>\n",
       "      <td>Fishing</td>\n",
       "      <td>fisherman</td>\n",
       "      <td>M</td>\n",
       "      <td>NaN</td>\n",
       "      <td>...</td>\n",
       "      <td>NaN</td>\n",
       "      <td>NaN</td>\n",
       "      <td>NaN</td>\n",
       "      <td>NaN</td>\n",
       "      <td>NaN</td>\n",
       "      <td>NaN</td>\n",
       "      <td>NaN</td>\n",
       "      <td>NaN</td>\n",
       "      <td>NaN</td>\n",
       "      <td>NaN</td>\n",
       "    </tr>\n",
       "    <tr>\n",
       "      <th>6910</th>\n",
       "      <td>Before 1906</td>\n",
       "      <td>0.0</td>\n",
       "      <td>Unprovoked</td>\n",
       "      <td>AUSTRALIA</td>\n",
       "      <td>New South Wales</td>\n",
       "      <td></td>\n",
       "      <td>Swimming</td>\n",
       "      <td>Arab boy</td>\n",
       "      <td>M</td>\n",
       "      <td>NaN</td>\n",
       "      <td>...</td>\n",
       "      <td>NaN</td>\n",
       "      <td>NaN</td>\n",
       "      <td>NaN</td>\n",
       "      <td>NaN</td>\n",
       "      <td>NaN</td>\n",
       "      <td>NaN</td>\n",
       "      <td>NaN</td>\n",
       "      <td>NaN</td>\n",
       "      <td>NaN</td>\n",
       "      <td>NaN</td>\n",
       "    </tr>\n",
       "    <tr>\n",
       "      <th>6911</th>\n",
       "      <td>Before 1903</td>\n",
       "      <td>0.0</td>\n",
       "      <td>Unprovoked</td>\n",
       "      <td>AUSTRALIA</td>\n",
       "      <td>Western Australia</td>\n",
       "      <td>Roebuck Bay</td>\n",
       "      <td>Diving</td>\n",
       "      <td>male</td>\n",
       "      <td>M</td>\n",
       "      <td>NaN</td>\n",
       "      <td>...</td>\n",
       "      <td>NaN</td>\n",
       "      <td>NaN</td>\n",
       "      <td>NaN</td>\n",
       "      <td>NaN</td>\n",
       "      <td>NaN</td>\n",
       "      <td>NaN</td>\n",
       "      <td>NaN</td>\n",
       "      <td>NaN</td>\n",
       "      <td>NaN</td>\n",
       "      <td>NaN</td>\n",
       "    </tr>\n",
       "    <tr>\n",
       "      <th>6912</th>\n",
       "      <td>Before 1903</td>\n",
       "      <td>0.0</td>\n",
       "      <td>Unprovoked</td>\n",
       "      <td>AUSTRALIA</td>\n",
       "      <td>Western Australia</td>\n",
       "      <td>NaN</td>\n",
       "      <td>Pearl diving</td>\n",
       "      <td>Ahmun</td>\n",
       "      <td>M</td>\n",
       "      <td>NaN</td>\n",
       "      <td>...</td>\n",
       "      <td>NaN</td>\n",
       "      <td>NaN</td>\n",
       "      <td>NaN</td>\n",
       "      <td>NaN</td>\n",
       "      <td>NaN</td>\n",
       "      <td>NaN</td>\n",
       "      <td>NaN</td>\n",
       "      <td>NaN</td>\n",
       "      <td>NaN</td>\n",
       "      <td>NaN</td>\n",
       "    </tr>\n",
       "  </tbody>\n",
       "</table>\n",
       "<p>1472 rows × 255 columns</p>\n",
       "</div>"
      ],
      "text/plain": [
       "             Date    Year        Type    Country              State  \\\n",
       "0     10 Nov-2023  2023.0  Unprovoked  AUSTRALIA    South Australia   \n",
       "2     03 Nov-2023  2023.0  Unprovoked  AUSTRALIA  Westerm Australia   \n",
       "5     31 Oct-2023  2023.0  Unprovoked  AUSTRALIA    South Australia   \n",
       "8     21 Oct-2023  2023.0  Watercraft  AUSTRALIA  Western Australia   \n",
       "13    01 Oct-2023  2023.0  Unprovoked  AUSTRALIA    South Australia   \n",
       "...           ...     ...         ...        ...                ...   \n",
       "6908  Before 1906     0.0  Unprovoked  AUSTRALIA                NaN   \n",
       "6909  Before 1906     0.0  Unprovoked  AUSTRALIA                NaN   \n",
       "6910  Before 1906     0.0  Unprovoked  AUSTRALIA    New South Wales   \n",
       "6911  Before 1903     0.0  Unprovoked  AUSTRALIA  Western Australia   \n",
       "6912  Before 1903     0.0  Unprovoked  AUSTRALIA  Western Australia   \n",
       "\n",
       "                      Location      Activity                   Name Sex  Age  \\\n",
       "0               Port Noarlunga   Free diving  Bridgette O’Shannessy   F   32   \n",
       "2                  Peak Island  Spearfishing                   male   M  NaN   \n",
       "5                  Streaky Bay       Surfing            Todd Gendle   M   55   \n",
       "8     Alexander Bay, Esperance       Fishing    Inflatatable dinghy   M  NaN   \n",
       "13                   Beachport      Swimming            Pamela Cook   F   64   \n",
       "...                        ...           ...                    ...  ..  ...   \n",
       "6908                       NaN       Fishing              fisherman   M  NaN   \n",
       "6909                       NaN       Fishing              fisherman   M  NaN   \n",
       "6910                                Swimming               Arab boy   M  NaN   \n",
       "6911               Roebuck Bay        Diving                   male   M  NaN   \n",
       "6912                       NaN  Pearl diving                  Ahmun   M  NaN   \n",
       "\n",
       "      ... Unnamed: 245 Unnamed: 246 Unnamed: 247 Unnamed: 248 Unnamed: 249  \\\n",
       "0     ...          NaN          NaN          NaN          NaN          NaN   \n",
       "2     ...          NaN          NaN          NaN          NaN          NaN   \n",
       "5     ...          NaN          NaN          NaN          NaN          NaN   \n",
       "8     ...          NaN          NaN          NaN          NaN          NaN   \n",
       "13    ...          NaN          NaN          NaN          NaN          NaN   \n",
       "...   ...          ...          ...          ...          ...          ...   \n",
       "6908  ...          NaN          NaN          NaN          NaN          NaN   \n",
       "6909  ...          NaN          NaN          NaN          NaN          NaN   \n",
       "6910  ...          NaN          NaN          NaN          NaN          NaN   \n",
       "6911  ...          NaN          NaN          NaN          NaN          NaN   \n",
       "6912  ...          NaN          NaN          NaN          NaN          NaN   \n",
       "\n",
       "     Unnamed: 250 Unnamed: 251 Unnamed: 252 Unnamed: 253 Unnamed: 254  \n",
       "0             NaN          NaN          NaN          NaN          NaN  \n",
       "2             NaN          NaN          NaN          NaN          NaN  \n",
       "5             NaN          NaN          NaN          NaN          NaN  \n",
       "8             NaN          NaN          NaN          NaN          NaN  \n",
       "13            NaN          NaN          NaN          NaN          NaN  \n",
       "...           ...          ...          ...          ...          ...  \n",
       "6908          NaN          NaN          NaN          NaN          NaN  \n",
       "6909          NaN          NaN          NaN          NaN          NaN  \n",
       "6910          NaN          NaN          NaN          NaN          NaN  \n",
       "6911          NaN          NaN          NaN          NaN          NaN  \n",
       "6912          NaN          NaN          NaN          NaN          NaN  \n",
       "\n",
       "[1472 rows x 255 columns]"
      ]
     },
     "execution_count": 51,
     "metadata": {},
     "output_type": "execute_result"
    }
   ],
   "source": [
    "data[ data[\"Country\"] == \"AUSTRALIA\" ]"
   ]
  },
  {
   "cell_type": "code",
   "execution_count": 52,
   "id": "e2ad1b99-ccbe-45f8-a93d-d8d29bcf63ff",
   "metadata": {
    "collapsed": true,
    "jupyter": {
     "outputs_hidden": true
    }
   },
   "outputs": [
    {
     "data": {
      "text/html": [
       "<div>\n",
       "<style scoped>\n",
       "    .dataframe tbody tr th:only-of-type {\n",
       "        vertical-align: middle;\n",
       "    }\n",
       "\n",
       "    .dataframe tbody tr th {\n",
       "        vertical-align: top;\n",
       "    }\n",
       "\n",
       "    .dataframe thead th {\n",
       "        text-align: right;\n",
       "    }\n",
       "</style>\n",
       "<table border=\"1\" class=\"dataframe\">\n",
       "  <thead>\n",
       "    <tr style=\"text-align: right;\">\n",
       "      <th></th>\n",
       "      <th>Date</th>\n",
       "      <th>Year</th>\n",
       "      <th>Type</th>\n",
       "      <th>Country</th>\n",
       "      <th>State</th>\n",
       "      <th>Location</th>\n",
       "      <th>Activity</th>\n",
       "      <th>Name</th>\n",
       "      <th>Sex</th>\n",
       "      <th>Age</th>\n",
       "      <th>...</th>\n",
       "      <th>Unnamed: 245</th>\n",
       "      <th>Unnamed: 246</th>\n",
       "      <th>Unnamed: 247</th>\n",
       "      <th>Unnamed: 248</th>\n",
       "      <th>Unnamed: 249</th>\n",
       "      <th>Unnamed: 250</th>\n",
       "      <th>Unnamed: 251</th>\n",
       "      <th>Unnamed: 252</th>\n",
       "      <th>Unnamed: 253</th>\n",
       "      <th>Unnamed: 254</th>\n",
       "    </tr>\n",
       "  </thead>\n",
       "  <tbody>\n",
       "    <tr>\n",
       "      <th>553</th>\n",
       "      <td>01-Sep-2018</td>\n",
       "      <td>2018.0</td>\n",
       "      <td>Provoked</td>\n",
       "      <td>IRELAND</td>\n",
       "      <td>County Cork</td>\n",
       "      <td>NaN</td>\n",
       "      <td>Fishing</td>\n",
       "      <td>Robert Malcolmson</td>\n",
       "      <td>M</td>\n",
       "      <td>40</td>\n",
       "      <td>...</td>\n",
       "      <td>NaN</td>\n",
       "      <td>NaN</td>\n",
       "      <td>NaN</td>\n",
       "      <td>NaN</td>\n",
       "      <td>NaN</td>\n",
       "      <td>NaN</td>\n",
       "      <td>NaN</td>\n",
       "      <td>NaN</td>\n",
       "      <td>NaN</td>\n",
       "      <td>NaN</td>\n",
       "    </tr>\n",
       "    <tr>\n",
       "      <th>5893</th>\n",
       "      <td>15-Jul-1917</td>\n",
       "      <td>1917.0</td>\n",
       "      <td>Sea Disaster</td>\n",
       "      <td>IRELAND</td>\n",
       "      <td>Off Ireland</td>\n",
       "      <td>82 miles from Fastnet</td>\n",
       "      <td>Ship Mariston torpedoed &amp; sunk</td>\n",
       "      <td>NaN</td>\n",
       "      <td>M</td>\n",
       "      <td>NaN</td>\n",
       "      <td>...</td>\n",
       "      <td>NaN</td>\n",
       "      <td>NaN</td>\n",
       "      <td>NaN</td>\n",
       "      <td>NaN</td>\n",
       "      <td>NaN</td>\n",
       "      <td>NaN</td>\n",
       "      <td>NaN</td>\n",
       "      <td>NaN</td>\n",
       "      <td>NaN</td>\n",
       "      <td>NaN</td>\n",
       "    </tr>\n",
       "  </tbody>\n",
       "</table>\n",
       "<p>2 rows × 255 columns</p>\n",
       "</div>"
      ],
      "text/plain": [
       "             Date    Year          Type  Country        State  \\\n",
       "553   01-Sep-2018  2018.0      Provoked  IRELAND  County Cork   \n",
       "5893  15-Jul-1917  1917.0  Sea Disaster  IRELAND  Off Ireland   \n",
       "\n",
       "                   Location                        Activity  \\\n",
       "553                     NaN                         Fishing   \n",
       "5893  82 miles from Fastnet  Ship Mariston torpedoed & sunk   \n",
       "\n",
       "                   Name Sex  Age  ... Unnamed: 245 Unnamed: 246 Unnamed: 247  \\\n",
       "553   Robert Malcolmson   M   40  ...          NaN          NaN          NaN   \n",
       "5893                NaN   M  NaN  ...          NaN          NaN          NaN   \n",
       "\n",
       "     Unnamed: 248 Unnamed: 249 Unnamed: 250 Unnamed: 251 Unnamed: 252  \\\n",
       "553           NaN          NaN          NaN          NaN          NaN   \n",
       "5893          NaN          NaN          NaN          NaN          NaN   \n",
       "\n",
       "     Unnamed: 253 Unnamed: 254  \n",
       "553           NaN          NaN  \n",
       "5893          NaN          NaN  \n",
       "\n",
       "[2 rows x 255 columns]"
      ]
     },
     "execution_count": 52,
     "metadata": {},
     "output_type": "execute_result"
    }
   ],
   "source": [
    "data[ data[\"Country\"] == \"IRELAND\" ]"
   ]
  },
  {
   "cell_type": "code",
   "execution_count": 53,
   "id": "1e3befd3-9651-48fa-b7fe-3fbeac8cbe2e",
   "metadata": {
    "collapsed": true,
    "jupyter": {
     "outputs_hidden": true
    }
   },
   "outputs": [
    {
     "data": {
      "text/html": [
       "<div>\n",
       "<style scoped>\n",
       "    .dataframe tbody tr th:only-of-type {\n",
       "        vertical-align: middle;\n",
       "    }\n",
       "\n",
       "    .dataframe tbody tr th {\n",
       "        vertical-align: top;\n",
       "    }\n",
       "\n",
       "    .dataframe thead th {\n",
       "        text-align: right;\n",
       "    }\n",
       "</style>\n",
       "<table border=\"1\" class=\"dataframe\">\n",
       "  <thead>\n",
       "    <tr style=\"text-align: right;\">\n",
       "      <th></th>\n",
       "      <th>Date</th>\n",
       "      <th>Year</th>\n",
       "      <th>Type</th>\n",
       "      <th>Country</th>\n",
       "      <th>State</th>\n",
       "      <th>Location</th>\n",
       "      <th>Activity</th>\n",
       "      <th>Name</th>\n",
       "      <th>Sex</th>\n",
       "      <th>Age</th>\n",
       "      <th>...</th>\n",
       "      <th>Unnamed: 245</th>\n",
       "      <th>Unnamed: 246</th>\n",
       "      <th>Unnamed: 247</th>\n",
       "      <th>Unnamed: 248</th>\n",
       "      <th>Unnamed: 249</th>\n",
       "      <th>Unnamed: 250</th>\n",
       "      <th>Unnamed: 251</th>\n",
       "      <th>Unnamed: 252</th>\n",
       "      <th>Unnamed: 253</th>\n",
       "      <th>Unnamed: 254</th>\n",
       "    </tr>\n",
       "  </thead>\n",
       "  <tbody>\n",
       "    <tr>\n",
       "      <th>553</th>\n",
       "      <td>01-Sep-2018</td>\n",
       "      <td>2018.0</td>\n",
       "      <td>Provoked</td>\n",
       "      <td>IRELAND</td>\n",
       "      <td>County Cork</td>\n",
       "      <td>NaN</td>\n",
       "      <td>Fishing</td>\n",
       "      <td>Robert Malcolmson</td>\n",
       "      <td>M</td>\n",
       "      <td>40</td>\n",
       "      <td>...</td>\n",
       "      <td>NaN</td>\n",
       "      <td>NaN</td>\n",
       "      <td>NaN</td>\n",
       "      <td>NaN</td>\n",
       "      <td>NaN</td>\n",
       "      <td>NaN</td>\n",
       "      <td>NaN</td>\n",
       "      <td>NaN</td>\n",
       "      <td>NaN</td>\n",
       "      <td>NaN</td>\n",
       "    </tr>\n",
       "    <tr>\n",
       "      <th>5893</th>\n",
       "      <td>15-Jul-1917</td>\n",
       "      <td>1917.0</td>\n",
       "      <td>Sea Disaster</td>\n",
       "      <td>IRELAND</td>\n",
       "      <td>Off Ireland</td>\n",
       "      <td>82 miles from Fastnet</td>\n",
       "      <td>Ship Mariston torpedoed &amp; sunk</td>\n",
       "      <td>NaN</td>\n",
       "      <td>M</td>\n",
       "      <td>NaN</td>\n",
       "      <td>...</td>\n",
       "      <td>NaN</td>\n",
       "      <td>NaN</td>\n",
       "      <td>NaN</td>\n",
       "      <td>NaN</td>\n",
       "      <td>NaN</td>\n",
       "      <td>NaN</td>\n",
       "      <td>NaN</td>\n",
       "      <td>NaN</td>\n",
       "      <td>NaN</td>\n",
       "      <td>NaN</td>\n",
       "    </tr>\n",
       "  </tbody>\n",
       "</table>\n",
       "<p>2 rows × 255 columns</p>\n",
       "</div>"
      ],
      "text/plain": [
       "             Date    Year          Type  Country        State  \\\n",
       "553   01-Sep-2018  2018.0      Provoked  IRELAND  County Cork   \n",
       "5893  15-Jul-1917  1917.0  Sea Disaster  IRELAND  Off Ireland   \n",
       "\n",
       "                   Location                        Activity  \\\n",
       "553                     NaN                         Fishing   \n",
       "5893  82 miles from Fastnet  Ship Mariston torpedoed & sunk   \n",
       "\n",
       "                   Name Sex  Age  ... Unnamed: 245 Unnamed: 246 Unnamed: 247  \\\n",
       "553   Robert Malcolmson   M   40  ...          NaN          NaN          NaN   \n",
       "5893                NaN   M  NaN  ...          NaN          NaN          NaN   \n",
       "\n",
       "     Unnamed: 248 Unnamed: 249 Unnamed: 250 Unnamed: 251 Unnamed: 252  \\\n",
       "553           NaN          NaN          NaN          NaN          NaN   \n",
       "5893          NaN          NaN          NaN          NaN          NaN   \n",
       "\n",
       "     Unnamed: 253 Unnamed: 254  \n",
       "553           NaN          NaN  \n",
       "5893          NaN          NaN  \n",
       "\n",
       "[2 rows x 255 columns]"
      ]
     },
     "execution_count": 53,
     "metadata": {},
     "output_type": "execute_result"
    }
   ],
   "source": [
    "rows = data[\"Country\"] == \"IRELAND\"\n",
    "data[rows]"
   ]
  },
  {
   "cell_type": "markdown",
   "id": "ddabe473-0b0f-4ad6-86e4-1e36362c10fc",
   "metadata": {},
   "source": [
    "## Homework\n",
    "\n",
    "Chapter 3 Q1 and Q3"
   ]
  },
  {
   "cell_type": "code",
   "execution_count": null,
   "id": "0ee88dbc-4e9e-49a0-9fd3-40172b272f98",
   "metadata": {},
   "outputs": [],
   "source": []
  }
 ],
 "metadata": {
  "kernelspec": {
   "display_name": "Python 3 (ipykernel)",
   "language": "python",
   "name": "python3"
  },
  "language_info": {
   "codemirror_mode": {
    "name": "ipython",
    "version": 3
   },
   "file_extension": ".py",
   "mimetype": "text/x-python",
   "name": "python",
   "nbconvert_exporter": "python",
   "pygments_lexer": "ipython3",
   "version": "3.11.5"
  }
 },
 "nbformat": 4,
 "nbformat_minor": 5
}
